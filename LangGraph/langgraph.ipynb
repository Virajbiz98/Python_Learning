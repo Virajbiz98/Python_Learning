{
  "nbformat": 4,
  "nbformat_minor": 0,
  "metadata": {
    "colab": {
      "provenance": [],
      "toc_visible": true,
      "authorship_tag": "ABX9TyMzq8qnKEiJznOveuzieMzQ",
      "include_colab_link": true
    },
    "kernelspec": {
      "name": "python3",
      "display_name": "Python 3"
    },
    "language_info": {
      "name": "python"
    }
  },
  "cells": [
    {
      "cell_type": "markdown",
      "metadata": {
        "id": "view-in-github",
        "colab_type": "text"
      },
      "source": [
        "<a href=\"https://colab.research.google.com/github/Virajbiz98/Python_Learning/blob/main/LangGraph/langgraph.ipynb\" target=\"_parent\"><img src=\"https://colab.research.google.com/assets/colab-badge.svg\" alt=\"Open In Colab\"/></a>"
      ]
    },
    {
      "cell_type": "code",
      "execution_count": 19,
      "metadata": {
        "id": "V_ln5djd3VF5"
      },
      "outputs": [],
      "source": [
        "pip install langgraph -q"
      ]
    },
    {
      "cell_type": "markdown",
      "source": [
        "Simple Graph"
      ],
      "metadata": {
        "id": "LPOfccvW4lIC"
      }
    },
    {
      "cell_type": "code",
      "source": [
        "from typing import TypedDict"
      ],
      "metadata": {
        "id": "VRCo3DNS4ZSm"
      },
      "execution_count": 20,
      "outputs": []
    },
    {
      "cell_type": "code",
      "source": [
        "class Agentstate(TypedDict):\n",
        "  name : str\n",
        "  age : int\n",
        "  message : str"
      ],
      "metadata": {
        "id": "0D-v2k-r47Qf"
      },
      "execution_count": 22,
      "outputs": []
    },
    {
      "cell_type": "code",
      "source": [
        "def hello_name(state : Agentstate)-> Agentstate:\n",
        "  state['message'] = f\"Hello {state['name']}\"\n",
        "  return state\n",
        "\n",
        "def hello_age(state : Agentstate)-> Agentstate:\n",
        "  state['message'] = f\"{state['message']} Your Age is {state['age']}\"\n",
        "  return state"
      ],
      "metadata": {
        "id": "8sPjMEmF5Uul"
      },
      "execution_count": 32,
      "outputs": []
    },
    {
      "cell_type": "code",
      "source": [
        "from langgraph.graph import StateGraph, START, END"
      ],
      "metadata": {
        "id": "5M6IPEFw6Hq9"
      },
      "execution_count": 33,
      "outputs": []
    },
    {
      "cell_type": "code",
      "source": [
        "workflow = StateGraph(Agentstate)\n",
        "\n",
        "workflow.add_node(\"hello_name\", hello_name)\n",
        "workflow.add_node(\"hello_age\", hello_age)\n",
        "\n",
        "workflow.add_edge(START, \"hello_name\")\n",
        "workflow.add_edge(\"hello_name\", \"hello_age\")\n",
        "workflow.add_edge(\"hello_age\", END)\n",
        "\n",
        "app = workflow.compile()"
      ],
      "metadata": {
        "id": "sPdeXP7Z6fkE"
      },
      "execution_count": 37,
      "outputs": []
    },
    {
      "cell_type": "code",
      "source": [
        "from IPython.display import Image, display\n",
        "display(Image(app.get_graph().draw_mermaid_png()))"
      ],
      "metadata": {
        "colab": {
          "base_uri": "https://localhost:8080/",
          "height": 350
        },
        "id": "obMnq5IBC5YF",
        "outputId": "aa73ef1e-4f02-46f0-bf75-bffe0576bda8"
      },
      "execution_count": 38,
      "outputs": [
        {
          "output_type": "display_data",
          "data": {
            "image/png": "[encoded data removed]",
            "text/plain": [
              "<IPython.core.display.Image object>"
            ]
          },
          "metadata": {}
        }
      ]
    },
    {
      "cell_type": "code",
      "source": [
        "result = app.invoke({\"name\":\"kasun\",\"age\": \"34\"})\n",
        "print(result['message'])"
      ],
      "metadata": {
        "id": "WNIc9y-4DihZ",
        "outputId": "4fca7b60-4132-4dbc-88c0-6c1bb9acc587",
        "colab": {
          "base_uri": "https://localhost:8080/"
        }
      },
      "execution_count": 39,
      "outputs": [
        {
          "output_type": "stream",
          "name": "stdout",
          "text": [
            "Hello kasun Your Age is 34\n"
          ]
        }
      ]
    },
    {
      "cell_type": "code",
      "source": [
        "\n"
      ],
      "metadata": {
        "id": "-WQYQOBi2XMT"
      },
      "execution_count": null,
      "outputs": []
    }
  ]
}