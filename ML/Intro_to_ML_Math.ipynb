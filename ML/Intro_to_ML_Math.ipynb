{
 "cells": [
  {
   "cell_type": "markdown",
   "id": "5a016206-6126-454b-8862-6f36cb41ba90",
   "metadata": {},
   "source": [
    "\n",
    "Linear Algebra"
   ]
  },
  {
   "cell_type": "raw",
   "id": "5a39f061-f930-4fa8-a603-7894b7ee5a27",
   "metadata": {},
   "source": [
    "Linear Algebra might sound difficult, but it's really just a way of working with data in an organized way. in Machine Learning, we store and manipulate data using these concepts \n",
    "\n",
    "1.Scalar\n",
    "A scalar is a single number. \n",
    "    Examples: 4, 5, -10, 46.86\n",
    "\n",
    "2. Vector\n",
    "A vector is a list of numbers. in Python, you can think of it as like [1,3,5,8]\n",
    "    Example:\n",
    "            We can represent a dog's height, weight, and age as a vector. [45, 15, 5]\n",
    "\n",
    "3. Matrix\n",
    "A matrix is a rectangular grid of nubers, made up of multiple vectors. Think of it like a table.\n",
    "\n",
    "    Example:\n",
    "            if we have data for several dogs, we can store it in a matrix. \n",
    "        [[45, 15, 5] (Dog 1)\n",
    "         [60, 25, 8] (Dog 2)\n",
    "         [35, 10, 3]] (Dog 3)\n",
    "\n",
    "In Machine Learning, a dataset is usually treated as a matrix. We perform mathematical operations on this matrix to train our models. The Python library NumPy is what we use for this "
   ]
  },
  {
   "cell_type": "code",
   "execution_count": 1,
   "id": "3639dd88-77d3-48d2-889a-e77c398c3eaa",
   "metadata": {},
   "outputs": [
    {
     "name": "stdout",
     "output_type": "stream",
     "text": [
      "[[45, 15, 5], [60, 25, 8], [35, 10, 3]]\n"
     ]
    }
   ],
   "source": [
    "dog_dataset = [\n",
    "    [45, 15, 5],\n",
    "    [60, 25, 8],\n",
    "    [35, 10, 3]\n",
    "]\n",
    "print(dog_dataset)"
   ]
  },
  {
   "cell_type": "markdown",
   "id": "77fb036d-1bbb-4959-bf36-7939bca3ce62",
   "metadata": {},
   "source": [
    "Probability and Statics"
   ]
  },
  {
   "cell_type": "raw",
   "id": "e6c54423-a124-4ab6-ba03-13fdfb82ccf8",
   "metadata": {},
   "source": [
    "Probability and Statistics are fundamental to Machine Learning. They help us understand data and make decisions about our models."
   ]
  },
  {
   "cell_type": "markdown",
   "id": "df72530c-cf25-420e-9add-78312f4ecc11",
   "metadata": {},
   "source": [
    "1. Probability"
   ]
  },
  {
   "cell_type": "raw",
   "id": "8c7bfea5-b960-4ddb-93d0-1bf14d98da37",
   "metadata": {},
   "source": [
    "Probability is the measure of the likehood that an event will happen. it's often expressed as a number between 0 and 1. \n",
    "\n",
    "    Example:\n",
    "            Imagine a Machine Learning model that predicts if an email is spam or not. The model might say, \"There is a 95% probability that this email is spam.\"\n"
   ]
  },
  {
   "cell_type": "markdown",
   "id": "e1429a82-a687-43b3-9d34-19fca561d64d",
   "metadata": {},
   "source": [
    " 2. Statistics"
   ]
  },
  {
   "cell_type": "raw",
   "id": "bdf773cc-3843-45a3-9bc9-15974b14610f",
   "metadata": {},
   "source": [
    "Statistics is the science of collecting, analyzing, and interpreting data. it helps us summarize and understand the data we are working with. \n",
    "\n",
    "Key Concepts:\n",
    "    Mean/Average: This is the average value of a set of numbers. it helps us find the \"center\" of our data. \n",
    "\n",
    "    Median: if you sort all the numbers, the median is the middle value. it's often more useful than the mean if there are very high or low values in your data.\n",
    "\n",
    "    Standerd Deviation: This measures how spread out the numbers are from the mean. A low standard deviation means the numers are close to the mean, while a high one means they are very spread out.\n",
    "\n",
    "* A MEASURE OF HOW SPREAD OUT THE NUMBERS ARE FROM THE AVERAGE.\n",
    " "
   ]
  },
  {
   "cell_type": "code",
   "execution_count": null,
   "id": "99589109-7377-40dd-a41b-b23a9effbc04",
   "metadata": {},
   "outputs": [],
   "source": []
  }
 ],
 "metadata": {
  "kernelspec": {
   "display_name": "Python 3 (ipykernel)",
   "language": "python",
   "name": "python3"
  },
  "language_info": {
   "codemirror_mode": {
    "name": "ipython",
    "version": 3
   },
   "file_extension": ".py",
   "mimetype": "text/x-python",
   "name": "python",
   "nbconvert_exporter": "python",
   "pygments_lexer": "ipython3",
   "version": "3.12.6"
  }
 },
 "nbformat": 4,
 "nbformat_minor": 5
}
