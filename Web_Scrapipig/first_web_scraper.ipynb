{
 "cells": [
  {
   "cell_type": "code",
   "execution_count": 35,
   "id": "d9b73e9d-946a-41d8-bf6b-83a1d9fef39b",
   "metadata": {},
   "outputs": [],
   "source": [
    "from bs4 import BeautifulSoup\n",
    "import requests\n",
    "import pandas as pd"
   ]
  },
  {
   "cell_type": "code",
   "execution_count": 36,
   "id": "620aad52-ebec-4c17-b55d-93c3ad07567d",
   "metadata": {},
   "outputs": [],
   "source": [
    "URL = \"https://www.amazon.com/Controller-Playstation-Charging-Storage-Included-4/dp/B08T1KHHR9/ref=sr_1_14?crid=K0EBLSJMXQMX&dib=eyJ2IjoiMSJ9.glLwnkNdqbrMuy1EHb3bf31uo8FZWvN97o1iJ08KEszifAV11wUq4ZFNKX8IEMyn7J6Rtdq6ExIALoC2JhlsJFMMAzE7BJdRN1UjfIPnsDsb1SnGVfK-mIZjubwOtJnm7YT30UT69wHL14KfoAiW-3i_qc2PkTG3HJIJgA9msvPYInDgyg5F94MLjF3f9Myweod1c5WlKcK6zQHqmudj2EmgeEtonxoIjLPz_WyFA-U.XtCbzGihBjCArSE2yhEGsZkWTiWB0nJCUAoqNXB8xfU&dib_tag=se&keywords=playstation+5&qid=1736201557&sprefix=Pla%2Caps%2C488&sr=8-14\""
   ]
  },
  {
   "cell_type": "code",
   "execution_count": 37,
   "id": "3fc57090-57ed-4440-a5e0-25becf2c0875",
   "metadata": {},
   "outputs": [],
   "source": [
    "#  Headers fo request\n",
    "HEADERS = ({'User-Agent':\"Mozilla/5.0 (Windows NT 10.0; Win64; x64) AppleWebKit/537.36 (KHTML, like Gecko) Chrome/131.0.0.0 Safari/537.36\", 'Accept-Language': 'en-US, en;q=0.5'})\n"
   ]
  },
  {
   "cell_type": "code",
   "execution_count": 38,
   "id": "d9e80126-9cce-4822-9997-c657e75bd7d1",
   "metadata": {},
   "outputs": [],
   "source": [
    "# HTTP Request\n",
    "webpage = requests.get(URL, headers=HEADERS)"
   ]
  },
  {
   "cell_type": "code",
   "execution_count": 39,
   "id": "9a49c97e-e8c4-4d67-86fd-770d552e3945",
   "metadata": {},
   "outputs": [
    {
     "data": {
      "text/plain": [
       "bytes"
      ]
     },
     "execution_count": 39,
     "metadata": {},
     "output_type": "execute_result"
    }
   ],
   "source": [
    "type(webpage.content)"
   ]
  },
  {
   "cell_type": "code",
   "execution_count": 56,
   "id": "58cc3870-7c17-4ca8-a21c-20a08d31b057",
   "metadata": {},
   "outputs": [
    {
     "name": "stdout",
     "output_type": "stream",
     "text": [
      "<!DOCTYPE html>\n",
      "<!--[if lt IE 7]> <html lang=\"en-us\" class=\"a-no-js a-lt-ie9 a-lt-ie8 a-lt-ie7\"> <![endif]-->\n",
      "<!--[if IE 7]>    <html lang=\"en-us\" class=\"a-no-js a-lt-ie9 a-lt-ie8\"> <![endif]-->\n",
      "<!--[if IE 8]>    <html lang=\"en-us\" class=\"a-no-js a-lt-ie9\"> <![endif]-->\n",
      "<!--[if gt IE 8]><!-->\n",
      "<html class=\"a-no-js\" lang=\"en-us\">\n",
      " <!--<![endif]-->\n",
      " <head>\n",
      "  <meta content=\"text/html; charset=utf-8\" http-equiv=\"content-type\"/>\n",
      "  <meta charset=\"utf-8\"/>\n",
      "  <meta content=\"IE=edge,chrome=1\" http-equiv=\"X-UA-Compatible\"/>\n",
      "  <title dir=\"ltr\">\n",
      "   Amazon.com\n",
      "  </title>\n",
      "  <meta content=\"width=device-width\" name=\"viewport\"/>\n",
      "  <link href=\"https://images-na.ssl-images-amazon.com/images/G/01/AUIClients/AmazonUI-3c913031596ca78a3768f4e934b1cc02ce238101.secure.min._V1_.css\" rel=\"stylesheet\"/>\n",
      "  <script>\n",
      "   if (true === true) {\n",
      "    var ue_t0 = (+ new Date()),\n",
      "        ue_csm = window,\n",
      "        ue = { t0: ue_t0, d: function() { return (+new Date() - ue_t0); } },\n",
      "        ue_furl = \"fls-na.amazon.com\",\n",
      "      \n"
     ]
    }
   ],
   "source": [
    "print(soup.prettify()[:1000])"
   ]
  },
  {
   "cell_type": "code",
   "execution_count": 40,
   "id": "1e7fc780-5055-418a-b45c-2cd9dfb35a65",
   "metadata": {},
   "outputs": [],
   "source": [
    "# Soup Object containing all data\n",
    "soup = BeautifulSoup(webpage.content, \"html.parser\")"
   ]
  },
  {
   "cell_type": "code",
   "execution_count": 57,
   "id": "ff6c8740-3fb3-40fa-a615-5a3d76a5e038",
   "metadata": {
    "scrolled": true
   },
   "outputs": [],
   "source": [
    "links = soup.find_all(\"a\", class_=\"a-link-normal s-line-clamp-2 s-link-style a-text-normal\")\n"
   ]
  },
  {
   "cell_type": "code",
   "execution_count": 58,
   "id": "78285a06-cc43-48ef-8f70-6188f2ecf917",
   "metadata": {},
   "outputs": [
    {
     "name": "stdout",
     "output_type": "stream",
     "text": [
      "[]\n"
     ]
    }
   ],
   "source": [
    "print(links[:5])"
   ]
  },
  {
   "cell_type": "code",
   "execution_count": null,
   "id": "5c45ff20-0ac4-4d76-9d1c-5527fc8619e5",
   "metadata": {},
   "outputs": [],
   "source": []
  }
 ],
 "metadata": {
  "kernelspec": {
   "display_name": "Python 3 (ipykernel)",
   "language": "python",
   "name": "python3"
  },
  "language_info": {
   "codemirror_mode": {
    "name": "ipython",
    "version": 3
   },
   "file_extension": ".py",
   "mimetype": "text/x-python",
   "name": "python",
   "nbconvert_exporter": "python",
   "pygments_lexer": "ipython3",
   "version": "3.12.1"
  }
 },
 "nbformat": 4,
 "nbformat_minor": 5
}
