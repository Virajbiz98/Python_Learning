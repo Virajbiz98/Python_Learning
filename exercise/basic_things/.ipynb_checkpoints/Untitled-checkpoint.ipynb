{
 "cells": [
  {
   "cell_type": "code",
   "execution_count": null,
   "id": "6534b373-148b-4210-be57-69eec5f4a9ce",
   "metadata": {},
   "outputs": [],
   "source": [
    "# Variables"
   ]
  },
  {
   "cell_type": "code",
   "execution_count": null,
   "id": "dc420f6e-d730-4912-8269-6c374423cd51",
   "metadata": {},
   "outputs": [],
   "source": [
    "X = \"Ca{}t\".format(\"s\")"
   ]
  },
  {
   "cell_type": "code",
   "execution_count": 5,
   "id": "476cb518-85c4-4439-8796-42a5ed348834",
   "metadata": {},
   "outputs": [
    {
     "data": {
      "text/plain": [
       "'Cast'"
      ]
     },
     "execution_count": 5,
     "metadata": {},
     "output_type": "execute_result"
    }
   ],
   "source": [
    "X"
   ]
  },
  {
   "cell_type": "code",
   "execution_count": 30,
   "id": "ba71fe4a-f63b-42b5-bb12-85013e3edd65",
   "metadata": {},
   "outputs": [],
   "source": [
    "age = 29.456737346655"
   ]
  },
  {
   "cell_type": "code",
   "execution_count": 31,
   "id": "ece2a7ae-ef52-4e2c-8ea8-4c140d30268e",
   "metadata": {},
   "outputs": [
    {
     "data": {
      "text/plain": [
       "29.456737346655"
      ]
     },
     "execution_count": 31,
     "metadata": {},
     "output_type": "execute_result"
    }
   ],
   "source": [
    "age"
   ]
  },
  {
   "cell_type": "code",
   "execution_count": 32,
   "id": "4d8eb940-575d-4c26-b0e1-fb17b52c6bbe",
   "metadata": {},
   "outputs": [],
   "source": [
    "x = 'I am {:.0f} years old'.format(age)"
   ]
  },
  {
   "cell_type": "code",
   "execution_count": 33,
   "id": "84cb4d36-bc64-48e1-81f0-f30648951f71",
   "metadata": {},
   "outputs": [
    {
     "data": {
      "text/plain": [
       "'I am 29 years old'"
      ]
     },
     "execution_count": 33,
     "metadata": {},
     "output_type": "execute_result"
    }
   ],
   "source": [
    "x"
   ]
  },
  {
   "cell_type": "code",
   "execution_count": 35,
   "id": "107d0c0f-3127-4b69-8c06-2ee01cb10548",
   "metadata": {},
   "outputs": [],
   "source": [
    "# List "
   ]
  },
  {
   "cell_type": "code",
   "execution_count": 73,
   "id": "e2ea2421-f533-43b0-b1cd-354fdf782cc3",
   "metadata": {},
   "outputs": [],
   "source": [
    "l = [1, 3, 5, 6, 'cat', [1, 2]]\n",
    "y = ['dog', 'hourse']"
   ]
  },
  {
   "cell_type": "code",
   "execution_count": null,
   "id": "f2e46905-b1df-45ac-be1e-7741a23590af",
   "metadata": {},
   "outputs": [],
   "source": [
    "2 * y"
   ]
  },
  {
   "cell_type": "code",
   "execution_count": 75,
   "id": "97b9010e-7aaa-4a2d-af44-7d6f2f2f53e3",
   "metadata": {},
   "outputs": [
    {
     "data": {
      "text/plain": [
       "[1, 3, 5, 6, 'cat', [1, 2], 'dog', 'hourse']"
      ]
     },
     "execution_count": 75,
     "metadata": {},
     "output_type": "execute_result"
    }
   ],
   "source": [
    "l + y"
   ]
  },
  {
   "cell_type": "code",
   "execution_count": 69,
   "id": "0932d964-441f-4ffc-840e-31c97d05b2bc",
   "metadata": {},
   "outputs": [],
   "source": [
    "l.append(5)"
   ]
  },
  {
   "cell_type": "code",
   "execution_count": null,
   "id": "115b13e9-c680-4502-b58e-7ce36c704aee",
   "metadata": {},
   "outputs": [],
   "source": [
    "l"
   ]
  },
  {
   "cell_type": "code",
   "execution_count": 71,
   "id": "77c168c6-983f-4e94-bb20-3e7b8a85c509",
   "metadata": {},
   "outputs": [
    {
     "data": {
      "text/plain": [
       "[1, 2, 5, 6, 'cat', [1, 2], 5, 5, 1, 2, 5, 6, 'cat', [1, 2], 5, 5]"
      ]
     },
     "execution_count": 71,
     "metadata": {},
     "output_type": "execute_result"
    }
   ],
   "source": [
    "l * 2"
   ]
  },
  {
   "cell_type": "code",
   "execution_count": 72,
   "id": "16be2e8d-c962-4820-a74b-47bda25aeefd",
   "metadata": {},
   "outputs": [
    {
     "data": {
      "text/plain": [
       "[1, 2, 5, 6, 'cat', [1, 2], 5, 5, 1, 2, 5, 6, 'cat', [1, 2], 5, 5]"
      ]
     },
     "execution_count": 72,
     "metadata": {},
     "output_type": "execute_result"
    }
   ],
   "source": [
    "2 * l "
   ]
  },
  {
   "cell_type": "code",
   "execution_count": null,
   "id": "13c6f1df-15e0-4230-b140-a30c1003cd1b",
   "metadata": {},
   "outputs": [],
   "source": [
    "l[1] = 2"
   ]
  },
  {
   "cell_type": "code",
   "execution_count": 53,
   "id": "7cd423a9-54c0-4fec-afd2-159bec02b777",
   "metadata": {},
   "outputs": [
    {
     "data": {
      "text/plain": [
       "[1, 2, 5, 6, 'cat', [1, 2]]"
      ]
     },
     "execution_count": 53,
     "metadata": {},
     "output_type": "execute_result"
    }
   ],
   "source": [
    "l"
   ]
  },
  {
   "cell_type": "code",
   "execution_count": 45,
   "id": "6c65ef7f-4148-4045-b677-f1fa71500566",
   "metadata": {},
   "outputs": [
    {
     "data": {
      "text/plain": [
       "[1, 2]"
      ]
     },
     "execution_count": 45,
     "metadata": {},
     "output_type": "execute_result"
    }
   ],
   "source": [
    "l[5]"
   ]
  },
  {
   "cell_type": "code",
   "execution_count": 46,
   "id": "4547bdf6-fcb3-40e6-ac2a-b5a06db82996",
   "metadata": {},
   "outputs": [
    {
     "data": {
      "text/plain": [
       "2"
      ]
     },
     "execution_count": 46,
     "metadata": {},
     "output_type": "execute_result"
    }
   ],
   "source": [
    "l[5][1]"
   ]
  },
  {
   "cell_type": "code",
   "execution_count": 47,
   "id": "a7f0a55f-835b-4289-9aff-aec7bdb05cef",
   "metadata": {},
   "outputs": [],
   "source": [
    " #  Tuple"
   ]
  },
  {
   "cell_type": "code",
   "execution_count": 54,
   "id": "6bccc73c-34c0-44b7-bebc-7c10aa08a9f9",
   "metadata": {},
   "outputs": [],
   "source": [
    "x = (1,2,3, 'pete', [1,3])"
   ]
  },
  {
   "cell_type": "code",
   "execution_count": 55,
   "id": "33b9b8b2-c199-4470-ad83-3cbcaf52e0f9",
   "metadata": {},
   "outputs": [
    {
     "data": {
      "text/plain": [
       "(1, 2, 3, 'pete', [1, 3])"
      ]
     },
     "execution_count": 55,
     "metadata": {},
     "output_type": "execute_result"
    }
   ],
   "source": [
    "x"
   ]
  },
  {
   "cell_type": "code",
   "execution_count": 56,
   "id": "bf099ceb-e698-41e1-b8f9-3ebbd85f7859",
   "metadata": {},
   "outputs": [],
   "source": [
    "# Dict"
   ]
  },
  {
   "cell_type": "code",
   "execution_count": 61,
   "id": "f2c7bcab-0c22-487d-b4c0-9ab1414ea87d",
   "metadata": {},
   "outputs": [],
   "source": [
    "d = {'cat':'feline', 'dog':4, 687:4 }"
   ]
  },
  {
   "cell_type": "code",
   "execution_count": 62,
   "id": "fbbfb454-dd5f-4733-bb74-280e84f542dc",
   "metadata": {},
   "outputs": [
    {
     "data": {
      "text/plain": [
       "{'cat': 'feline', 'dog': 4, 687: 4}"
      ]
     },
     "execution_count": 62,
     "metadata": {},
     "output_type": "execute_result"
    }
   ],
   "source": [
    "d"
   ]
  },
  {
   "cell_type": "code",
   "execution_count": 60,
   "id": "f7d7e820-a3ae-4629-a571-5bb8150ba4ca",
   "metadata": {},
   "outputs": [
    {
     "data": {
      "text/plain": [
       "'feline'"
      ]
     },
     "execution_count": 60,
     "metadata": {},
     "output_type": "execute_result"
    }
   ],
   "source": [
    "d['cat']"
   ]
  },
  {
   "cell_type": "code",
   "execution_count": 63,
   "id": "70e1ba0b-f703-4e1b-ae74-dcf28573ec11",
   "metadata": {},
   "outputs": [
    {
     "data": {
      "text/plain": [
       "4"
      ]
     },
     "execution_count": 63,
     "metadata": {},
     "output_type": "execute_result"
    }
   ],
   "source": [
    "d[687]"
   ]
  },
  {
   "cell_type": "code",
   "execution_count": null,
   "id": "e75b3732-c2d2-48b8-b0a4-1dde9e5337d5",
   "metadata": {},
   "outputs": [],
   "source": [
    "Array"
   ]
  },
  {
   "cell_type": "code",
   "execution_count": 64,
   "id": "92e38036-7a7f-4624-8b89-84a9a6e96a0f",
   "metadata": {},
   "outputs": [],
   "source": [
    "import numpy as np "
   ]
  },
  {
   "cell_type": "code",
   "execution_count": 65,
   "id": "1bc8d25f-8f37-4549-ad01-fcdbdeb62909",
   "metadata": {},
   "outputs": [
    {
     "data": {
      "text/plain": [
       "<module 'numpy' from 'C:\\\\Users\\\\My PC\\\\AppData\\\\Local\\\\Programs\\\\Python\\\\Python312\\\\Lib\\\\site-packages\\\\numpy\\\\__init__.py'>"
      ]
     },
     "execution_count": 65,
     "metadata": {},
     "output_type": "execute_result"
    }
   ],
   "source": [
    "np"
   ]
  },
  {
   "cell_type": "code",
   "execution_count": null,
   "id": "1e7a9bd4-5dc3-4011-8b32-4d2a00783a7b",
   "metadata": {},
   "outputs": [],
   "source": [
    "x = np.array([1,5,8,6])"
   ]
  },
  {
   "cell_type": "code",
   "execution_count": null,
   "id": "b5061bf4-1a20-4737-b3b4-0438fd0aa9e1",
   "metadata": {},
   "outputs": [],
   "source": [
    "x = np.linspace(0, 20, 10)"
   ]
  },
  {
   "cell_type": "code",
   "execution_count": 86,
   "id": "8ec1ac40-5e72-41d5-847a-2ae33e7b7833",
   "metadata": {},
   "outputs": [],
   "source": [
    "x = np.arange(0, 20, 2)"
   ]
  },
  {
   "cell_type": "code",
   "execution_count": 90,
   "id": "89a48eb7-b6b6-489c-82a9-348b3a0aa491",
   "metadata": {},
   "outputs": [
    {
     "data": {
      "text/plain": [
       "array([  0,   4,  16,  36,  64, 100, 144, 196, 256, 324])"
      ]
     },
     "execution_count": 90,
     "metadata": {},
     "output_type": "execute_result"
    }
   ],
   "source": [
    "x**2"
   ]
  },
  {
   "cell_type": "code",
   "execution_count": 89,
   "id": "763b9298-fc4b-4fe1-9db5-5526aa0fb32c",
   "metadata": {},
   "outputs": [
    {
     "data": {
      "text/plain": [
       "array([ 0,  2,  4,  6,  8, 10, 12, 14, 16, 18])"
      ]
     },
     "execution_count": 89,
     "metadata": {},
     "output_type": "execute_result"
    }
   ],
   "source": [
    "x"
   ]
  },
  {
   "cell_type": "code",
   "execution_count": 76,
   "id": "ce28de08-ca87-4d77-a700-9d1b6bdd90b9",
   "metadata": {},
   "outputs": [
    {
     "data": {
      "text/plain": [
       "array([ 2, 10, 16, 12])"
      ]
     },
     "execution_count": 76,
     "metadata": {},
     "output_type": "execute_result"
    }
   ],
   "source": [
    "x*2"
   ]
  },
  {
   "cell_type": "code",
   "execution_count": 77,
   "id": "ad75f8d9-baf5-4714-b608-27575b0024d7",
   "metadata": {},
   "outputs": [
    {
     "data": {
      "text/plain": [
       "array([ 1, 25, 64, 36])"
      ]
     },
     "execution_count": 77,
     "metadata": {},
     "output_type": "execute_result"
    }
   ],
   "source": [
    "x**2"
   ]
  },
  {
   "cell_type": "code",
   "execution_count": 78,
   "id": "43e17349-170c-43af-8c56-bbf705fe426b",
   "metadata": {},
   "outputs": [
    {
     "data": {
      "text/plain": [
       "array([1.        , 0.2       , 0.125     , 0.16666667])"
      ]
     },
     "execution_count": 78,
     "metadata": {},
     "output_type": "execute_result"
    }
   ],
   "source": [
    "1/x"
   ]
  },
  {
   "cell_type": "code",
   "execution_count": 91,
   "id": "fd2b1296-1ddf-4b76-9d9d-5a4a37b4f0fb",
   "metadata": {},
   "outputs": [],
   "source": [
    " #  Plotting"
   ]
  },
  {
   "cell_type": "code",
   "execution_count": 92,
   "id": "87774336-3618-48b3-937e-a7368983a5a3",
   "metadata": {},
   "outputs": [],
   "source": [
    "import matplotlib.pyplot as plt"
   ]
  },
  {
   "cell_type": "code",
   "execution_count": 96,
   "id": "49bfc3fa-66e5-4e4d-83dd-48a9e50a0f15",
   "metadata": {},
   "outputs": [],
   "source": [
    "x = np.linspace(0,1,10)\n",
    "y = x**2"
   ]
  },
  {
   "cell_type": "code",
   "execution_count": 104,
   "id": "1fca5822-cc64-4daf-9b9a-851953bf207a",
   "metadata": {},
   "outputs": [
    {
     "data": {
      "text/plain": [
       "Text(0, 0.5, 'y')"
      ]
     },
     "execution_count": 104,
     "metadata": {},
     "output_type": "execute_result"
    },
    {
     "data": {
      "image/png": "[encoded data removed]",
      "text/plain": [
       "<Figure size 640x480 with 1 Axes>"
      ]
     },
     "metadata": {},
     "output_type": "display_data"
    }
   ],
   "source": [
    "plt.plot(x,y,'ro--')\n",
    "plt.xlabel('x', fontsize=18 )\n",
    "plt.ylabel('y', fontsize=16)"
   ]
  },
  {
   "cell_type": "code",
   "execution_count": null,
   "id": "3c59a02d-87ff-49fb-acb4-9a81ed62bdd3",
   "metadata": {},
   "outputs": [],
   "source": []
  }
 ],
 "metadata": {
  "kernelspec": {
   "display_name": "Python 3 (ipykernel)",
   "language": "python",
   "name": "python3"
  },
  "language_info": {
   "codemirror_mode": {
    "name": "ipython",
    "version": 3
   },
   "file_extension": ".py",
   "mimetype": "text/x-python",
   "name": "python",
   "nbconvert_exporter": "python",
   "pygments_lexer": "ipython3",
   "version": "3.12.5"
  }
 },
 "nbformat": 4,
 "nbformat_minor": 5
}
