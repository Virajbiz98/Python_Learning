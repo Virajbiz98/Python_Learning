{
 "cells": [
  {
   "cell_type": "code",
   "execution_count": null,
   "id": "72a1105b-42ce-4e16-84e5-7e044bfc6668",
   "metadata": {},
   "outputs": [],
   "source": [
    "forloops"
   ]
  },
  {
   "cell_type": "code",
   "execution_count": null,
   "id": "1dc6a279-d664-4a92-b31b-b954e9c1715b",
   "metadata": {},
   "outputs": [],
   "source": [
    "# 1. Reguler loop"
   ]
  },
  {
   "cell_type": "code",
   "execution_count": 4,
   "id": "5fc2ea12-076c-475f-8f7e-db1b6d990de9",
   "metadata": {},
   "outputs": [],
   "source": [
    "lst = []\n",
    "for i in range(21):\n",
    "    lst.append(i**3)"
   ]
  },
  {
   "cell_type": "code",
   "execution_count": 5,
   "id": "e4f9f0a2-f798-44a7-8bee-d5b7918250ca",
   "metadata": {},
   "outputs": [
    {
     "data": {
      "text/plain": [
       "[0,\n",
       " 1,\n",
       " 8,\n",
       " 27,\n",
       " 64,\n",
       " 125,\n",
       " 216,\n",
       " 343,\n",
       " 512,\n",
       " 729,\n",
       " 1000,\n",
       " 1331,\n",
       " 1728,\n",
       " 2197,\n",
       " 2744,\n",
       " 3375,\n",
       " 4096,\n",
       " 4913,\n",
       " 5832,\n",
       " 6859,\n",
       " 8000]"
      ]
     },
     "execution_count": 5,
     "metadata": {},
     "output_type": "execute_result"
    }
   ],
   "source": [
    "lst"
   ]
  },
  {
   "cell_type": "code",
   "execution_count": 6,
   "id": "5e06884b-c9f4-419f-817d-acfb17b12e2a",
   "metadata": {},
   "outputs": [],
   "source": [
    " #  List loop"
   ]
  },
  {
   "cell_type": "code",
   "execution_count": 7,
   "id": "614ec2f3-2747-4cd7-a36a-f7805943d30e",
   "metadata": {},
   "outputs": [
    {
     "name": "stdout",
     "output_type": "stream",
     "text": [
      "dog\n",
      "cat\n",
      "horse\n"
     ]
    }
   ],
   "source": [
    "lst = ['dog', 'cat', 'horse']\n",
    "for item in lst:\n",
    "    print(item)"
   ]
  },
  {
   "cell_type": "code",
   "execution_count": 8,
   "id": "5b4d9196-bfc8-41cf-934d-d436ead3eeec",
   "metadata": {},
   "outputs": [],
   "source": [
    "# Enumeration loop"
   ]
  },
  {
   "cell_type": "code",
   "execution_count": 10,
   "id": "0c99a064-e52e-4a55-9c60-9dc649a7a7bc",
   "metadata": {},
   "outputs": [
    {
     "name": "stdout",
     "output_type": "stream",
     "text": [
      "Index 0 contains dog\n",
      "Index 1 contains cat\n",
      "Index 2 contains horse\n"
     ]
    }
   ],
   "source": [
    "lst = ['dog', 'cat', 'horse']\n",
    "for i, item in enumerate(lst):\n",
    "    print('Index {} contains {}'.format(i, item))"
   ]
  },
  {
   "cell_type": "code",
   "execution_count": 11,
   "id": "0e5dd524-0c90-4b2f-a60b-bd0352aa7f5f",
   "metadata": {},
   "outputs": [],
   "source": [
    "# List comprehension loop"
   ]
  },
  {
   "cell_type": "code",
   "execution_count": 12,
   "id": "30c512bf-60f7-4cf5-a8d9-530bd0b68bd4",
   "metadata": {},
   "outputs": [],
   "source": [
    "lst  = [i**3 for i in range(21)]"
   ]
  },
  {
   "cell_type": "code",
   "execution_count": 13,
   "id": "c257b4a8-c5ea-4a2c-8872-a9926a373be3",
   "metadata": {},
   "outputs": [
    {
     "data": {
      "text/plain": [
       "[0,\n",
       " 1,\n",
       " 8,\n",
       " 27,\n",
       " 64,\n",
       " 125,\n",
       " 216,\n",
       " 343,\n",
       " 512,\n",
       " 729,\n",
       " 1000,\n",
       " 1331,\n",
       " 1728,\n",
       " 2197,\n",
       " 2744,\n",
       " 3375,\n",
       " 4096,\n",
       " 4913,\n",
       " 5832,\n",
       " 6859,\n",
       " 8000]"
      ]
     },
     "execution_count": 13,
     "metadata": {},
     "output_type": "execute_result"
    }
   ],
   "source": [
    "lst"
   ]
  },
  {
   "cell_type": "code",
   "execution_count": 14,
   "id": "1f422d77-bedc-40e9-8e69-c013c3defaee",
   "metadata": {},
   "outputs": [],
   "source": [
    "# Double for loop"
   ]
  },
  {
   "cell_type": "code",
   "execution_count": 15,
   "id": "2c688389-a433-47da-a1c3-532a9d893e2a",
   "metadata": {},
   "outputs": [
    {
     "name": "stdout",
     "output_type": "stream",
     "text": [
      "i=0 j=0\n",
      "i=0 j=1\n",
      "i=0 j=2\n",
      "i=0 j=3\n",
      "i=0 j=4\n",
      "i=1 j=0\n",
      "i=1 j=1\n",
      "i=1 j=2\n",
      "i=1 j=3\n",
      "i=1 j=4\n",
      "i=2 j=0\n",
      "i=2 j=1\n",
      "i=2 j=2\n",
      "i=2 j=3\n",
      "i=2 j=4\n",
      "i=3 j=0\n",
      "i=3 j=1\n",
      "i=3 j=2\n",
      "i=3 j=3\n",
      "i=3 j=4\n",
      "i=4 j=0\n",
      "i=4 j=1\n",
      "i=4 j=2\n",
      "i=4 j=3\n",
      "i=4 j=4\n"
     ]
    }
   ],
   "source": [
    "for i in range(5):\n",
    "    for j in range(5):\n",
    "        print('i={} j={}' .format(i,j))"
   ]
  },
  {
   "cell_type": "code",
   "execution_count": 16,
   "id": "accbd685-8463-4a22-954b-4b955ca6999e",
   "metadata": {},
   "outputs": [],
   "source": [
    "# booleans and if statements"
   ]
  },
  {
   "cell_type": "code",
   "execution_count": 17,
   "id": "20b5736e-b3b0-4319-9eb2-e0350e83605e",
   "metadata": {},
   "outputs": [],
   "source": [
    "a = True\n",
    "b = False"
   ]
  },
  {
   "cell_type": "code",
   "execution_count": 32,
   "id": "728f2b9a-74f7-4c10-ae5a-2113736a3b9c",
   "metadata": {},
   "outputs": [
    {
     "name": "stdout",
     "output_type": "stream",
     "text": [
      "yes\n"
     ]
    }
   ],
   "source": [
    "if a and not(b):\n",
    "    print('yes')"
   ]
  },
  {
   "cell_type": "code",
   "execution_count": 33,
   "id": "7a2cf73f-1bdc-4ca2-8732-cc9035335018",
   "metadata": {},
   "outputs": [],
   "source": [
    "i = 1\n",
    "j = 0"
   ]
  },
  {
   "cell_type": "code",
   "execution_count": 39,
   "id": "39524f30-0367-482e-973b-d7777f4f15ae",
   "metadata": {},
   "outputs": [
    {
     "name": "stdout",
     "output_type": "stream",
     "text": [
      "yes\n"
     ]
    }
   ],
   "source": [
    "if i!=1 or j==0:\n",
    "    print('yes')"
   ]
  },
  {
   "cell_type": "code",
   "execution_count": 46,
   "id": "04648d3a-622a-461b-b507-b72596cbdcbe",
   "metadata": {},
   "outputs": [],
   "source": [
    "i = 0"
   ]
  },
  {
   "cell_type": "code",
   "execution_count": 47,
   "id": "60a303e8-0419-4fef-a344-ab8248903c32",
   "metadata": {},
   "outputs": [
    {
     "name": "stdout",
     "output_type": "stream",
     "text": [
      "only condition 1 true\n"
     ]
    }
   ],
   "source": [
    "if 'at' in 'cat' and i==1:\n",
    "    print('yes')\n",
    "elif 'at' in 'cat':\n",
    "    print('only condition 1 true')\n",
    "else:\n",
    "    print('no')"
   ]
  },
  {
   "cell_type": "code",
   "execution_count": 49,
   "id": "0dc2df43-dc3e-406a-98b0-4c0e600a7c22",
   "metadata": {},
   "outputs": [
    {
     "name": "stdout",
     "output_type": "stream",
     "text": [
      "yes\n"
     ]
    }
   ],
   "source": [
    "if 6:\n",
    "    print('yes')"
   ]
  },
  {
   "cell_type": "code",
   "execution_count": 51,
   "id": "1c5351cb-5625-4f0b-bded-425b2a44801f",
   "metadata": {},
   "outputs": [],
   "source": [
    "# problem 1\n",
    "# The equation for the height of a thrown ball is y = -1/2gt^2 + u0t where \n",
    "#   t is time \n",
    "#   u0 is the initial upward speed of the ball\n",
    "#   g is gravity\n",
    "# jim throws his ball at 10m/s and mark throws his at 15/s upward.Plot the heigh of their ball as a function of time from 0 to 2 seconds "
   ]
  },
  {
   "cell_type": "code",
   "execution_count": 55,
   "id": "0b0aa47d-9176-4bec-9e0e-9635027f9376",
   "metadata": {},
   "outputs": [],
   "source": [
    "import numpy as np\n",
    "t = np.linspace(0,2,100)\n",
    "g = 9.81\n",
    "v0_j = 10\n",
    "v0_m = 15"
   ]
  },
  {
   "cell_type": "code",
   "execution_count": 63,
   "id": "43719f4f-3e0c-4692-bc5e-9ecc7c06ca69",
   "metadata": {},
   "outputs": [],
   "source": [
    "y_j = -1/2 * g * t**2 + v0_j*t\n",
    "y_m = -1/2 * g * t**2 + v0_m*t"
   ]
  },
  {
   "cell_type": "code",
   "execution_count": 69,
   "id": "3918ac8c-e853-4b04-9c13-a5505c41efd7",
   "metadata": {},
   "outputs": [
    {
     "data": {
      "text/plain": [
       "<matplotlib.legend.Legend at 0x19ab332ed20>"
      ]
     },
     "execution_count": 69,
     "metadata": {},
     "output_type": "execute_result"
    },
    {
     "data": {
      "image/png": "[encoded data removed]",
      "text/plain": [
       "<Figure size 640x480 with 1 Axes>"
      ]
     },
     "metadata": {},
     "output_type": "display_data"
    }
   ],
   "source": [
    "import matplotlib.pyplot as plt\n",
    "plt.plot(t, y_j, label='Jim' )\n",
    "plt.plot(t, y_m, label='Mark')\n",
    "plt.xlabel('Time')\n",
    "plt.ylabel('Height')\n",
    "plt.grid()\n",
    "plt.legend()"
   ]
  },
  {
   "cell_type": "code",
   "execution_count": null,
   "id": "7548b7d2-87ea-474b-9a1b-4ac554e7ebf9",
   "metadata": {},
   "outputs": [],
   "source": [
    "Problem 2:\n",
    " the poem below is organized such that poem line is a new element in the list \n",
    "poem=['when day comes we ask ourselves,',\\\n",
    "     'where can we find light in this never-ending shade?',\\\n",
    "     'the loss we carry,',\\\n",
    "     'a sea we must wade',\\\n",
    "     \"we've braved the belly of the beast\",\\\n",
    "     \"we've learned that quiet isn't always peace\",\\\n",
    "     \"and the roms and notions\",\\\n",
    "     \"of what just is\"]\n",
    "\n",
    "loop through the lines of the poem, and if the line contains the substring 'we' , then print 'line __ contains we' where '__' is the line\n",
    "number."
   ]
  },
  {
   "cell_type": "code",
   "execution_count": 74,
   "id": "205ad693-fc24-4d6f-8f09-a02edf0e0df3",
   "metadata": {},
   "outputs": [],
   "source": [
    "poem=['when day comes we ask ourselves,',\n",
    "     'where can we find light in this never-ending shade?',\\\n",
    "     'the loss we carry,',\n",
    "     'a sea we must wade',\n",
    "     \"we've braved the belly of the beast\",\n",
    "     \"we've learned that quiet isn't always peace\",\n",
    "     \"and the roms and notions\",\n",
    "     \"of what just is\"]"
   ]
  },
  {
   "cell_type": "code",
   "execution_count": 76,
   "id": "57f117d3-6d84-421a-9a88-a97f91714e60",
   "metadata": {},
   "outputs": [
    {
     "name": "stdout",
     "output_type": "stream",
     "text": [
      "Line 0 conrains we\n",
      "Line 1 conrains we\n",
      "Line 2 conrains we\n",
      "Line 3 conrains we\n",
      "Line 4 conrains we\n",
      "Line 5 conrains we\n"
     ]
    }
   ],
   "source": [
    "for i, line in enumerate(poem):\n",
    "    if 'we' in line:\n",
    "        print('Line {} conrains we' . format(i))"
   ]
  },
  {
   "cell_type": "code",
   "execution_count": null,
   "id": "098aa15d-d40a-4a14-a91e-37126e9611e2",
   "metadata": {},
   "outputs": [],
   "source": [
    " Problem 3\n",
    "Add up every number from 1 to 999999, except for those that can be divided by 4 and those that can be divided by 6 "
   ]
  },
  {
   "cell_type": "code",
   "execution_count": 81,
   "id": "b6ad2d4b-80e0-46c7-b623-6722231dfd54",
   "metadata": {},
   "outputs": [],
   "source": [
    "summation = 0\n",
    "for i in range(1000000):\n",
    "    if not(i%4==0) and not(i%6==0):\n",
    "        summation = summation + i"
   ]
  },
  {
   "cell_type": "code",
   "execution_count": 82,
   "id": "ba8c161d-1d83-480d-8a1c-9bd247c8251c",
   "metadata": {},
   "outputs": [
    {
     "data": {
      "text/plain": [
       "333333666666"
      ]
     },
     "execution_count": 82,
     "metadata": {},
     "output_type": "execute_result"
    }
   ],
   "source": [
    "summation "
   ]
  },
  {
   "cell_type": "code",
   "execution_count": null,
   "id": "5f67f5cf-e26d-4173-a414-e4826ea037de",
   "metadata": {},
   "outputs": [],
   "source": []
  }
 ],
 "metadata": {
  "kernelspec": {
   "display_name": "Python 3 (ipykernel)",
   "language": "python",
   "name": "python3"
  },
  "language_info": {
   "codemirror_mode": {
    "name": "ipython",
    "version": 3
   },
   "file_extension": ".py",
   "mimetype": "text/x-python",
   "name": "python",
   "nbconvert_exporter": "python",
   "pygments_lexer": "ipython3",
   "version": "3.12.5"
  }
 },
 "nbformat": 4,
 "nbformat_minor": 5
}
