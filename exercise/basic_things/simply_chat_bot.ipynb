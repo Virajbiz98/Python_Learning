{
 "cells": [
  {
   "cell_type": "code",
   "execution_count": 3,
   "id": "f4b21b05-ef52-43ef-b292-5111a12bffa7",
   "metadata": {},
   "outputs": [
    {
     "name": "stdout",
     "output_type": "stream",
     "text": [
      "jeff\n",
      "1\n",
      "True\n"
     ]
    }
   ],
   "source": [
    "# VARIABLE\n",
    "name = \"Elon\"\n",
    "age = 1 \n",
    "im_i_very_cool = True\n",
    "bot_names = [\"jeff\", \"elon\", \"wallie\"]\n",
    "name = \"jeff\"\n",
    "\n",
    "print(name)\n",
    "print(age)\n",
    "print(im_i_very_cool)\n",
    "\n"
   ]
  },
  {
   "cell_type": "code",
   "execution_count": 5,
   "id": "f83b8b42-4255-4cf8-985a-dc0a5e8e0af4",
   "metadata": {},
   "outputs": [
    {
     "name": "stdout",
     "output_type": "stream",
     "text": [
      "what would you like me to do today? hi \n"
     ]
    },
    {
     "name": "stdout",
     "output_type": "stream",
     "text": [
      "hi \n"
     ]
    }
   ],
   "source": [
    "# INPUTS\n",
    "message = input(\"what would you like me to do today?\")\n",
    "\n",
    "print(message)"
   ]
  },
  {
   "cell_type": "code",
   "execution_count": 8,
   "id": "d675c158-0464-442a-9c03-435c60fbcb72",
   "metadata": {},
   "outputs": [
    {
     "name": "stdout",
     "output_type": "stream",
     "text": [
      "Hi stranjer\n"
     ]
    }
   ],
   "source": [
    "# CONDITIONS\n",
    "name = \"kjkldsfjlsf\"\n",
    "\n",
    "if name == \"jeff\":\n",
    "    print(\"Hi jeff\")\n",
    "elif name == \"elon\":\n",
    "    print(\"Hi elon\")\n",
    "else:\n",
    "    print(\"Hi stranjer\")\n",
    "    "
   ]
  },
  {
   "cell_type": "code",
   "execution_count": 13,
   "id": "7204f6bd-b310-4a22-9eeb-cfe6d17a511e",
   "metadata": {},
   "outputs": [
    {
     "name": "stdout",
     "output_type": "stream",
     "text": [
      "jeff\n",
      "elon\n"
     ]
    }
   ],
   "source": [
    "# LOOPS\n",
    "bot_names = [\"elon\", \"jeff\", \"wallie\"]\n",
    "\n",
    "# for loop\n",
    "for name in bot_names:\n",
    "    print(name)\n",
    "\n",
    "name = \"jeff\"\n",
    "\n",
    "while name == \"jeff\":\n",
    "    print(name)\n",
    "    name = \"elon\"\n",
    "    print(name)\n"
   ]
  },
  {
   "cell_type": "code",
   "execution_count": 15,
   "id": "290ba1d1-b121-4d55-86e1-35db5e39f3ce",
   "metadata": {},
   "outputs": [
    {
     "name": "stdout",
     "output_type": "stream",
     "text": [
      "01/31/2025\n"
     ]
    }
   ],
   "source": [
    "# function and imports \n",
    "from datetime import datetime \n",
    "\n",
    "def add_numbers(a, b):\n",
    "    return a + b\n",
    "\n",
    "# print(add_numbers(1,4))\n",
    "\n",
    "def get_todays_date():\n",
    "    return datetime.now().strftime(\"%m/%d/%Y\")\n",
    "\n",
    "print(get_todays_date())"
   ]
  },
  {
   "cell_type": "code",
   "execution_count": 26,
   "id": "74b47ef6-719e-4060-8f01-82b5e99781ae",
   "metadata": {},
   "outputs": [
    {
     "ename": "",
     "evalue": "",
     "output_type": "error",
     "traceback": [
      "\u001b[1;31mThe kernel failed to start as the Python Environment 'anaconda3 (Python -1.-1.-1)' is no longer available. Consider selecting another kernel or refreshing the list of Python Environments."
     ]
    }
   ],
   "source": [
    "name = \"jeff\"\n",
    "\n",
    "def add(a, b):\n",
    "    return a + b\n",
    "\n",
    "def get_todays_date():\n",
    "    return datetime.now().strftime(\"%m/%d/%Y\")\n",
    "\n",
    "while True:\n",
    "    user_message = input(\"🤖 Bot - How can I help you today? \").lower()\n",
    "\n",
    "    if user_message == \"hi\":\n",
    "        print(\" Hi i'm Jeff How can I help you today? \")\n",
    "\n",
    "    elif user_message == \"what is your name?\":\n",
    "        print(\"My name is\",name)\n",
    "\n",
    "    elif user_message == \"what is the date?\":\n",
    "        print(get_todays_date())\n",
    "\n",
    "    elif user_message == \"what is 1 + 2\":\n",
    "        print(add(1,2))\n",
    "\n",
    "    elif user_message == \"quit\":\n",
    "        print(\"bye have a nice day \")\n",
    "        break\n",
    "    else:\n",
    "        print(\"Sorry,  I can't help you with that \")\n"
   ]
  },
  {
   "cell_type": "code",
   "execution_count": null,
   "id": "d817e71f-8d0d-43b6-9f2f-d62df530e3d2",
   "metadata": {},
   "outputs": [],
   "source": []
  }
 ],
 "metadata": {
  "kernelspec": {
   "display_name": "anaconda3",
   "language": "python",
   "name": "python3"
  },
  "language_info": {
   "codemirror_mode": {
    "name": "ipython",
    "version": 3
   },
   "file_extension": ".py",
   "mimetype": "text/x-python",
   "name": "python",
   "nbconvert_exporter": "python",
   "pygments_lexer": "ipython3",
   "version": "-1.-1.-1"
  }
 },
 "nbformat": 4,
 "nbformat_minor": 5
}
