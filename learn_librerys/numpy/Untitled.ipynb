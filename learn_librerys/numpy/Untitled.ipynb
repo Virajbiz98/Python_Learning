{
 "cells": [
  {
   "cell_type": "markdown",
   "id": "fc55494e-e4dd-4358-89d6-8729ecb7c543",
   "metadata": {},
   "source": [
    "import time \n",
    "starr = time.time()\n",
    "\n",
    "a = [i for i in range(100000000)]\n",
    "b = [i for i in range(100000000,200000000)]\n",
    "\n",
    "print(time.time() - start)"
   ]
  },
  {
   "cell_type": "raw",
   "id": "7b034562-79c0-4361-ae7b-3e27bde182e4",
   "metadata": {},
   "source": [
    "print(\"helllo world\")\n"
   ]
  },
  {
   "cell_type": "code",
   "execution_count": null,
   "id": "baa6ad88-7f75-4b19-b76e-8dc9ef408491",
   "metadata": {},
   "outputs": [],
   "source": []
  },
  {
   "cell_type": "code",
   "execution_count": null,
   "id": "106bbc80-2e86-43e8-9668-8cbc162bfb7c",
   "metadata": {},
   "outputs": [],
   "source": []
  },
  {
   "cell_type": "code",
   "execution_count": null,
   "id": "aabbb6a4-73e3-480f-bb29-ffd46a2c9c41",
   "metadata": {},
   "outputs": [],
   "source": []
  }
 ],
 "metadata": {
  "kernelspec": {
   "display_name": "Python 3 (ipykernel)",
   "language": "python",
   "name": "python3"
  },
  "language_info": {
   "codemirror_mode": {
    "name": "ipython",
    "version": 3
   },
   "file_extension": ".py",
   "mimetype": "text/x-python",
   "name": "python",
   "nbconvert_exporter": "python",
   "pygments_lexer": "ipython3",
   "version": "3.12.5"
  }
 },
 "nbformat": 4,
 "nbformat_minor": 5
}
